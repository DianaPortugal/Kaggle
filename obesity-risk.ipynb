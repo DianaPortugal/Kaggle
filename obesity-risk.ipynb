{
 "cells": [
  {
   "cell_type": "code",
   "execution_count": 1,
   "id": "27b07abf",
   "metadata": {
    "_cell_guid": "b1076dfc-b9ad-4769-8c92-a6c4dae69d19",
    "_uuid": "8f2839f25d086af736a60e9eeb907d3b93b6e0e5",
    "execution": {
     "iopub.execute_input": "2024-02-10T16:38:25.912453Z",
     "iopub.status.busy": "2024-02-10T16:38:25.912093Z",
     "iopub.status.idle": "2024-02-10T16:38:26.879130Z",
     "shell.execute_reply": "2024-02-10T16:38:26.878167Z"
    },
    "papermill": {
     "duration": 0.977791,
     "end_time": "2024-02-10T16:38:26.881673",
     "exception": false,
     "start_time": "2024-02-10T16:38:25.903882",
     "status": "completed"
    },
    "tags": []
   },
   "outputs": [
    {
     "name": "stdout",
     "output_type": "stream",
     "text": [
      "/kaggle/input/playground-series-s4e2/sample_submission.csv\n",
      "/kaggle/input/playground-series-s4e2/train.csv\n",
      "/kaggle/input/playground-series-s4e2/test.csv\n"
     ]
    }
   ],
   "source": [
    "# This Python 3 environment comes with many helpful analytics libraries installed\n",
    "# It is defined by the kaggle/python Docker image: https://github.com/kaggle/docker-python\n",
    "# For example, here's several helpful packages to load\n",
    "\n",
    "import numpy as np # linear algebra\n",
    "import pandas as pd # data processing, CSV file I/O (e.g. pd.read_csv)\n",
    "\n",
    "# Input data files are available in the read-only \"../input/\" directory\n",
    "# For example, running this (by clicking run or pressing Shift+Enter) will list all files under the input directory\n",
    "\n",
    "import os\n",
    "for dirname, _, filenames in os.walk('/kaggle/input'):\n",
    "    for filename in filenames:\n",
    "        print(os.path.join(dirname, filename))\n",
    "\n",
    "# You can write up to 20GB to the current directory (/kaggle/working/) that gets preserved as output when you create a version using \"Save & Run All\" \n",
    "# You can also write temporary files to /kaggle/temp/, but they won't be saved outside of the current session"
   ]
  },
  {
   "cell_type": "markdown",
   "id": "9483f96b",
   "metadata": {
    "papermill": {
     "duration": 0.006896,
     "end_time": "2024-02-10T16:38:26.897072",
     "exception": false,
     "start_time": "2024-02-10T16:38:26.890176",
     "status": "completed"
    },
    "tags": []
   },
   "source": [
    "# CHAMADA DE DADOS"
   ]
  },
  {
   "cell_type": "markdown",
   "id": "979cbf4c",
   "metadata": {
    "papermill": {
     "duration": 0.005654,
     "end_time": "2024-02-10T16:38:26.908713",
     "exception": false,
     "start_time": "2024-02-10T16:38:26.903059",
     "status": "completed"
    },
    "tags": []
   },
   "source": [
    "Agora vamos a chamar os dados para trabalhar com eles"
   ]
  },
  {
   "cell_type": "code",
   "execution_count": 2,
   "id": "5d45f9fa",
   "metadata": {
    "execution": {
     "iopub.execute_input": "2024-02-10T16:38:26.922322Z",
     "iopub.status.busy": "2024-02-10T16:38:26.921750Z",
     "iopub.status.idle": "2024-02-10T16:38:27.020182Z",
     "shell.execute_reply": "2024-02-10T16:38:27.019274Z"
    },
    "papermill": {
     "duration": 0.107671,
     "end_time": "2024-02-10T16:38:27.022189",
     "exception": false,
     "start_time": "2024-02-10T16:38:26.914518",
     "status": "completed"
    },
    "tags": []
   },
   "outputs": [
    {
     "data": {
      "text/html": [
       "<div>\n",
       "<style scoped>\n",
       "    .dataframe tbody tr th:only-of-type {\n",
       "        vertical-align: middle;\n",
       "    }\n",
       "\n",
       "    .dataframe tbody tr th {\n",
       "        vertical-align: top;\n",
       "    }\n",
       "\n",
       "    .dataframe thead th {\n",
       "        text-align: right;\n",
       "    }\n",
       "</style>\n",
       "<table border=\"1\" class=\"dataframe\">\n",
       "  <thead>\n",
       "    <tr style=\"text-align: right;\">\n",
       "      <th></th>\n",
       "      <th>id</th>\n",
       "      <th>Gender</th>\n",
       "      <th>Age</th>\n",
       "      <th>Height</th>\n",
       "      <th>Weight</th>\n",
       "      <th>family_history_with_overweight</th>\n",
       "      <th>FAVC</th>\n",
       "      <th>FCVC</th>\n",
       "      <th>NCP</th>\n",
       "      <th>CAEC</th>\n",
       "      <th>SMOKE</th>\n",
       "      <th>CH2O</th>\n",
       "      <th>SCC</th>\n",
       "      <th>FAF</th>\n",
       "      <th>TUE</th>\n",
       "      <th>CALC</th>\n",
       "      <th>MTRANS</th>\n",
       "      <th>NObeyesdad</th>\n",
       "    </tr>\n",
       "  </thead>\n",
       "  <tbody>\n",
       "    <tr>\n",
       "      <th>0</th>\n",
       "      <td>0</td>\n",
       "      <td>Male</td>\n",
       "      <td>24.443011</td>\n",
       "      <td>1.699998</td>\n",
       "      <td>81.669950</td>\n",
       "      <td>yes</td>\n",
       "      <td>yes</td>\n",
       "      <td>2.000000</td>\n",
       "      <td>2.983297</td>\n",
       "      <td>Sometimes</td>\n",
       "      <td>no</td>\n",
       "      <td>2.763573</td>\n",
       "      <td>no</td>\n",
       "      <td>0.000000</td>\n",
       "      <td>0.976473</td>\n",
       "      <td>Sometimes</td>\n",
       "      <td>Public_Transportation</td>\n",
       "      <td>Overweight_Level_II</td>\n",
       "    </tr>\n",
       "    <tr>\n",
       "      <th>1</th>\n",
       "      <td>1</td>\n",
       "      <td>Female</td>\n",
       "      <td>18.000000</td>\n",
       "      <td>1.560000</td>\n",
       "      <td>57.000000</td>\n",
       "      <td>yes</td>\n",
       "      <td>yes</td>\n",
       "      <td>2.000000</td>\n",
       "      <td>3.000000</td>\n",
       "      <td>Frequently</td>\n",
       "      <td>no</td>\n",
       "      <td>2.000000</td>\n",
       "      <td>no</td>\n",
       "      <td>1.000000</td>\n",
       "      <td>1.000000</td>\n",
       "      <td>no</td>\n",
       "      <td>Automobile</td>\n",
       "      <td>Normal_Weight</td>\n",
       "    </tr>\n",
       "    <tr>\n",
       "      <th>2</th>\n",
       "      <td>2</td>\n",
       "      <td>Female</td>\n",
       "      <td>18.000000</td>\n",
       "      <td>1.711460</td>\n",
       "      <td>50.165754</td>\n",
       "      <td>yes</td>\n",
       "      <td>yes</td>\n",
       "      <td>1.880534</td>\n",
       "      <td>1.411685</td>\n",
       "      <td>Sometimes</td>\n",
       "      <td>no</td>\n",
       "      <td>1.910378</td>\n",
       "      <td>no</td>\n",
       "      <td>0.866045</td>\n",
       "      <td>1.673584</td>\n",
       "      <td>no</td>\n",
       "      <td>Public_Transportation</td>\n",
       "      <td>Insufficient_Weight</td>\n",
       "    </tr>\n",
       "    <tr>\n",
       "      <th>3</th>\n",
       "      <td>3</td>\n",
       "      <td>Female</td>\n",
       "      <td>20.952737</td>\n",
       "      <td>1.710730</td>\n",
       "      <td>131.274851</td>\n",
       "      <td>yes</td>\n",
       "      <td>yes</td>\n",
       "      <td>3.000000</td>\n",
       "      <td>3.000000</td>\n",
       "      <td>Sometimes</td>\n",
       "      <td>no</td>\n",
       "      <td>1.674061</td>\n",
       "      <td>no</td>\n",
       "      <td>1.467863</td>\n",
       "      <td>0.780199</td>\n",
       "      <td>Sometimes</td>\n",
       "      <td>Public_Transportation</td>\n",
       "      <td>Obesity_Type_III</td>\n",
       "    </tr>\n",
       "    <tr>\n",
       "      <th>4</th>\n",
       "      <td>4</td>\n",
       "      <td>Male</td>\n",
       "      <td>31.641081</td>\n",
       "      <td>1.914186</td>\n",
       "      <td>93.798055</td>\n",
       "      <td>yes</td>\n",
       "      <td>yes</td>\n",
       "      <td>2.679664</td>\n",
       "      <td>1.971472</td>\n",
       "      <td>Sometimes</td>\n",
       "      <td>no</td>\n",
       "      <td>1.979848</td>\n",
       "      <td>no</td>\n",
       "      <td>1.967973</td>\n",
       "      <td>0.931721</td>\n",
       "      <td>Sometimes</td>\n",
       "      <td>Public_Transportation</td>\n",
       "      <td>Overweight_Level_II</td>\n",
       "    </tr>\n",
       "  </tbody>\n",
       "</table>\n",
       "</div>"
      ],
      "text/plain": [
       "   id  Gender        Age    Height      Weight family_history_with_overweight  \\\n",
       "0   0    Male  24.443011  1.699998   81.669950                            yes   \n",
       "1   1  Female  18.000000  1.560000   57.000000                            yes   \n",
       "2   2  Female  18.000000  1.711460   50.165754                            yes   \n",
       "3   3  Female  20.952737  1.710730  131.274851                            yes   \n",
       "4   4    Male  31.641081  1.914186   93.798055                            yes   \n",
       "\n",
       "  FAVC      FCVC       NCP        CAEC SMOKE      CH2O SCC       FAF  \\\n",
       "0  yes  2.000000  2.983297   Sometimes    no  2.763573  no  0.000000   \n",
       "1  yes  2.000000  3.000000  Frequently    no  2.000000  no  1.000000   \n",
       "2  yes  1.880534  1.411685   Sometimes    no  1.910378  no  0.866045   \n",
       "3  yes  3.000000  3.000000   Sometimes    no  1.674061  no  1.467863   \n",
       "4  yes  2.679664  1.971472   Sometimes    no  1.979848  no  1.967973   \n",
       "\n",
       "        TUE       CALC                 MTRANS           NObeyesdad  \n",
       "0  0.976473  Sometimes  Public_Transportation  Overweight_Level_II  \n",
       "1  1.000000         no             Automobile        Normal_Weight  \n",
       "2  1.673584         no  Public_Transportation  Insufficient_Weight  \n",
       "3  0.780199  Sometimes  Public_Transportation     Obesity_Type_III  \n",
       "4  0.931721  Sometimes  Public_Transportation  Overweight_Level_II  "
      ]
     },
     "execution_count": 2,
     "metadata": {},
     "output_type": "execute_result"
    }
   ],
   "source": [
    "import pandas as pd\n",
    "df_train = pd.read_csv('/kaggle/input/playground-series-s4e2/train.csv')\n",
    "df_train.head()"
   ]
  },
  {
   "cell_type": "markdown",
   "id": "29ff2dca",
   "metadata": {
    "papermill": {
     "duration": 0.00603,
     "end_time": "2024-02-10T16:38:27.034608",
     "exception": false,
     "start_time": "2024-02-10T16:38:27.028578",
     "status": "completed"
    },
    "tags": []
   },
   "source": [
    "Vamos a visualizar que informação tem os dados"
   ]
  },
  {
   "cell_type": "code",
   "execution_count": 3,
   "id": "45e37998",
   "metadata": {
    "execution": {
     "iopub.execute_input": "2024-02-10T16:38:27.048570Z",
     "iopub.status.busy": "2024-02-10T16:38:27.048231Z",
     "iopub.status.idle": "2024-02-10T16:38:27.085324Z",
     "shell.execute_reply": "2024-02-10T16:38:27.084318Z"
    },
    "papermill": {
     "duration": 0.046689,
     "end_time": "2024-02-10T16:38:27.087493",
     "exception": false,
     "start_time": "2024-02-10T16:38:27.040804",
     "status": "completed"
    },
    "tags": []
   },
   "outputs": [
    {
     "name": "stdout",
     "output_type": "stream",
     "text": [
      "<class 'pandas.core.frame.DataFrame'>\n",
      "RangeIndex: 20758 entries, 0 to 20757\n",
      "Data columns (total 18 columns):\n",
      " #   Column                          Non-Null Count  Dtype  \n",
      "---  ------                          --------------  -----  \n",
      " 0   id                              20758 non-null  int64  \n",
      " 1   Gender                          20758 non-null  object \n",
      " 2   Age                             20758 non-null  float64\n",
      " 3   Height                          20758 non-null  float64\n",
      " 4   Weight                          20758 non-null  float64\n",
      " 5   family_history_with_overweight  20758 non-null  object \n",
      " 6   FAVC                            20758 non-null  object \n",
      " 7   FCVC                            20758 non-null  float64\n",
      " 8   NCP                             20758 non-null  float64\n",
      " 9   CAEC                            20758 non-null  object \n",
      " 10  SMOKE                           20758 non-null  object \n",
      " 11  CH2O                            20758 non-null  float64\n",
      " 12  SCC                             20758 non-null  object \n",
      " 13  FAF                             20758 non-null  float64\n",
      " 14  TUE                             20758 non-null  float64\n",
      " 15  CALC                            20758 non-null  object \n",
      " 16  MTRANS                          20758 non-null  object \n",
      " 17  NObeyesdad                      20758 non-null  object \n",
      "dtypes: float64(8), int64(1), object(9)\n",
      "memory usage: 2.9+ MB\n"
     ]
    }
   ],
   "source": [
    "df_train.info()"
   ]
  },
  {
   "cell_type": "markdown",
   "id": "14b8b304",
   "metadata": {
    "papermill": {
     "duration": 0.006012,
     "end_time": "2024-02-10T16:38:27.099836",
     "exception": false,
     "start_time": "2024-02-10T16:38:27.093824",
     "status": "completed"
    },
    "tags": []
   },
   "source": [
    "Vamos a eliminar a columna Id."
   ]
  },
  {
   "cell_type": "code",
   "execution_count": 4,
   "id": "3aeb7998",
   "metadata": {
    "execution": {
     "iopub.execute_input": "2024-02-10T16:38:27.114741Z",
     "iopub.status.busy": "2024-02-10T16:38:27.114433Z",
     "iopub.status.idle": "2024-02-10T16:38:27.137250Z",
     "shell.execute_reply": "2024-02-10T16:38:27.135982Z"
    },
    "papermill": {
     "duration": 0.033104,
     "end_time": "2024-02-10T16:38:27.139085",
     "exception": false,
     "start_time": "2024-02-10T16:38:27.105981",
     "status": "completed"
    },
    "tags": []
   },
   "outputs": [
    {
     "name": "stdout",
     "output_type": "stream",
     "text": [
      "<class 'pandas.core.frame.DataFrame'>\n",
      "RangeIndex: 20758 entries, 0 to 20757\n",
      "Data columns (total 17 columns):\n",
      " #   Column                          Non-Null Count  Dtype  \n",
      "---  ------                          --------------  -----  \n",
      " 0   Gender                          20758 non-null  object \n",
      " 1   Age                             20758 non-null  float64\n",
      " 2   Height                          20758 non-null  float64\n",
      " 3   Weight                          20758 non-null  float64\n",
      " 4   family_history_with_overweight  20758 non-null  object \n",
      " 5   FAVC                            20758 non-null  object \n",
      " 6   FCVC                            20758 non-null  float64\n",
      " 7   NCP                             20758 non-null  float64\n",
      " 8   CAEC                            20758 non-null  object \n",
      " 9   SMOKE                           20758 non-null  object \n",
      " 10  CH2O                            20758 non-null  float64\n",
      " 11  SCC                             20758 non-null  object \n",
      " 12  FAF                             20758 non-null  float64\n",
      " 13  TUE                             20758 non-null  float64\n",
      " 14  CALC                            20758 non-null  object \n",
      " 15  MTRANS                          20758 non-null  object \n",
      " 16  NObeyesdad                      20758 non-null  object \n",
      "dtypes: float64(8), object(9)\n",
      "memory usage: 2.7+ MB\n"
     ]
    }
   ],
   "source": [
    "df_train = df_train.drop('id', axis = 1)\n",
    "df_train.info()"
   ]
  },
  {
   "cell_type": "markdown",
   "id": "08916098",
   "metadata": {
    "papermill": {
     "duration": 0.005999,
     "end_time": "2024-02-10T16:38:27.151489",
     "exception": false,
     "start_time": "2024-02-10T16:38:27.145490",
     "status": "completed"
    },
    "tags": []
   },
   "source": [
    "Chamamos os dados de teste"
   ]
  },
  {
   "cell_type": "code",
   "execution_count": 5,
   "id": "cd08190a",
   "metadata": {
    "execution": {
     "iopub.execute_input": "2024-02-10T16:38:27.165885Z",
     "iopub.status.busy": "2024-02-10T16:38:27.165379Z",
     "iopub.status.idle": "2024-02-10T16:38:27.221655Z",
     "shell.execute_reply": "2024-02-10T16:38:27.220318Z"
    },
    "papermill": {
     "duration": 0.065848,
     "end_time": "2024-02-10T16:38:27.223725",
     "exception": false,
     "start_time": "2024-02-10T16:38:27.157877",
     "status": "completed"
    },
    "tags": []
   },
   "outputs": [
    {
     "name": "stdout",
     "output_type": "stream",
     "text": [
      "<class 'pandas.core.frame.DataFrame'>\n",
      "RangeIndex: 13840 entries, 0 to 13839\n",
      "Data columns (total 17 columns):\n",
      " #   Column                          Non-Null Count  Dtype  \n",
      "---  ------                          --------------  -----  \n",
      " 0   id                              13840 non-null  int64  \n",
      " 1   Gender                          13840 non-null  object \n",
      " 2   Age                             13840 non-null  float64\n",
      " 3   Height                          13840 non-null  float64\n",
      " 4   Weight                          13840 non-null  float64\n",
      " 5   family_history_with_overweight  13840 non-null  object \n",
      " 6   FAVC                            13840 non-null  object \n",
      " 7   FCVC                            13840 non-null  float64\n",
      " 8   NCP                             13840 non-null  float64\n",
      " 9   CAEC                            13840 non-null  object \n",
      " 10  SMOKE                           13840 non-null  object \n",
      " 11  CH2O                            13840 non-null  float64\n",
      " 12  SCC                             13840 non-null  object \n",
      " 13  FAF                             13840 non-null  float64\n",
      " 14  TUE                             13840 non-null  float64\n",
      " 15  CALC                            13840 non-null  object \n",
      " 16  MTRANS                          13840 non-null  object \n",
      "dtypes: float64(8), int64(1), object(8)\n",
      "memory usage: 1.8+ MB\n"
     ]
    }
   ],
   "source": [
    "df_test = pd.read_csv('/kaggle/input/playground-series-s4e2/test.csv')\n",
    "df_test.info()"
   ]
  },
  {
   "cell_type": "code",
   "execution_count": 6,
   "id": "97e835e4",
   "metadata": {
    "execution": {
     "iopub.execute_input": "2024-02-10T16:38:27.238497Z",
     "iopub.status.busy": "2024-02-10T16:38:27.238100Z",
     "iopub.status.idle": "2024-02-10T16:38:27.254830Z",
     "shell.execute_reply": "2024-02-10T16:38:27.254141Z"
    },
    "papermill": {
     "duration": 0.02652,
     "end_time": "2024-02-10T16:38:27.256807",
     "exception": false,
     "start_time": "2024-02-10T16:38:27.230287",
     "status": "completed"
    },
    "tags": []
   },
   "outputs": [
    {
     "data": {
      "text/html": [
       "<div>\n",
       "<style scoped>\n",
       "    .dataframe tbody tr th:only-of-type {\n",
       "        vertical-align: middle;\n",
       "    }\n",
       "\n",
       "    .dataframe tbody tr th {\n",
       "        vertical-align: top;\n",
       "    }\n",
       "\n",
       "    .dataframe thead th {\n",
       "        text-align: right;\n",
       "    }\n",
       "</style>\n",
       "<table border=\"1\" class=\"dataframe\">\n",
       "  <thead>\n",
       "    <tr style=\"text-align: right;\">\n",
       "      <th></th>\n",
       "      <th>id</th>\n",
       "      <th>Gender</th>\n",
       "      <th>Age</th>\n",
       "      <th>Height</th>\n",
       "      <th>Weight</th>\n",
       "      <th>family_history_with_overweight</th>\n",
       "      <th>FAVC</th>\n",
       "      <th>FCVC</th>\n",
       "      <th>NCP</th>\n",
       "      <th>CAEC</th>\n",
       "      <th>SMOKE</th>\n",
       "      <th>CH2O</th>\n",
       "      <th>SCC</th>\n",
       "      <th>FAF</th>\n",
       "      <th>TUE</th>\n",
       "      <th>CALC</th>\n",
       "      <th>MTRANS</th>\n",
       "    </tr>\n",
       "  </thead>\n",
       "  <tbody>\n",
       "    <tr>\n",
       "      <th>0</th>\n",
       "      <td>20758</td>\n",
       "      <td>Male</td>\n",
       "      <td>26.899886</td>\n",
       "      <td>1.848294</td>\n",
       "      <td>120.644178</td>\n",
       "      <td>yes</td>\n",
       "      <td>yes</td>\n",
       "      <td>2.938616</td>\n",
       "      <td>3.000000</td>\n",
       "      <td>Sometimes</td>\n",
       "      <td>no</td>\n",
       "      <td>2.825629</td>\n",
       "      <td>no</td>\n",
       "      <td>0.855400</td>\n",
       "      <td>0.000000</td>\n",
       "      <td>Sometimes</td>\n",
       "      <td>Public_Transportation</td>\n",
       "    </tr>\n",
       "    <tr>\n",
       "      <th>1</th>\n",
       "      <td>20759</td>\n",
       "      <td>Female</td>\n",
       "      <td>21.000000</td>\n",
       "      <td>1.600000</td>\n",
       "      <td>66.000000</td>\n",
       "      <td>yes</td>\n",
       "      <td>yes</td>\n",
       "      <td>2.000000</td>\n",
       "      <td>1.000000</td>\n",
       "      <td>Sometimes</td>\n",
       "      <td>no</td>\n",
       "      <td>3.000000</td>\n",
       "      <td>no</td>\n",
       "      <td>1.000000</td>\n",
       "      <td>0.000000</td>\n",
       "      <td>Sometimes</td>\n",
       "      <td>Public_Transportation</td>\n",
       "    </tr>\n",
       "    <tr>\n",
       "      <th>2</th>\n",
       "      <td>20760</td>\n",
       "      <td>Female</td>\n",
       "      <td>26.000000</td>\n",
       "      <td>1.643355</td>\n",
       "      <td>111.600553</td>\n",
       "      <td>yes</td>\n",
       "      <td>yes</td>\n",
       "      <td>3.000000</td>\n",
       "      <td>3.000000</td>\n",
       "      <td>Sometimes</td>\n",
       "      <td>no</td>\n",
       "      <td>2.621877</td>\n",
       "      <td>no</td>\n",
       "      <td>0.000000</td>\n",
       "      <td>0.250502</td>\n",
       "      <td>Sometimes</td>\n",
       "      <td>Public_Transportation</td>\n",
       "    </tr>\n",
       "    <tr>\n",
       "      <th>3</th>\n",
       "      <td>20761</td>\n",
       "      <td>Male</td>\n",
       "      <td>20.979254</td>\n",
       "      <td>1.553127</td>\n",
       "      <td>103.669116</td>\n",
       "      <td>yes</td>\n",
       "      <td>yes</td>\n",
       "      <td>2.000000</td>\n",
       "      <td>2.977909</td>\n",
       "      <td>Sometimes</td>\n",
       "      <td>no</td>\n",
       "      <td>2.786417</td>\n",
       "      <td>no</td>\n",
       "      <td>0.094851</td>\n",
       "      <td>0.000000</td>\n",
       "      <td>Sometimes</td>\n",
       "      <td>Public_Transportation</td>\n",
       "    </tr>\n",
       "    <tr>\n",
       "      <th>4</th>\n",
       "      <td>20762</td>\n",
       "      <td>Female</td>\n",
       "      <td>26.000000</td>\n",
       "      <td>1.627396</td>\n",
       "      <td>104.835346</td>\n",
       "      <td>yes</td>\n",
       "      <td>yes</td>\n",
       "      <td>3.000000</td>\n",
       "      <td>3.000000</td>\n",
       "      <td>Sometimes</td>\n",
       "      <td>no</td>\n",
       "      <td>2.653531</td>\n",
       "      <td>no</td>\n",
       "      <td>0.000000</td>\n",
       "      <td>0.741069</td>\n",
       "      <td>Sometimes</td>\n",
       "      <td>Public_Transportation</td>\n",
       "    </tr>\n",
       "  </tbody>\n",
       "</table>\n",
       "</div>"
      ],
      "text/plain": [
       "      id  Gender        Age    Height      Weight  \\\n",
       "0  20758    Male  26.899886  1.848294  120.644178   \n",
       "1  20759  Female  21.000000  1.600000   66.000000   \n",
       "2  20760  Female  26.000000  1.643355  111.600553   \n",
       "3  20761    Male  20.979254  1.553127  103.669116   \n",
       "4  20762  Female  26.000000  1.627396  104.835346   \n",
       "\n",
       "  family_history_with_overweight FAVC      FCVC       NCP       CAEC SMOKE  \\\n",
       "0                            yes  yes  2.938616  3.000000  Sometimes    no   \n",
       "1                            yes  yes  2.000000  1.000000  Sometimes    no   \n",
       "2                            yes  yes  3.000000  3.000000  Sometimes    no   \n",
       "3                            yes  yes  2.000000  2.977909  Sometimes    no   \n",
       "4                            yes  yes  3.000000  3.000000  Sometimes    no   \n",
       "\n",
       "       CH2O SCC       FAF       TUE       CALC                 MTRANS  \n",
       "0  2.825629  no  0.855400  0.000000  Sometimes  Public_Transportation  \n",
       "1  3.000000  no  1.000000  0.000000  Sometimes  Public_Transportation  \n",
       "2  2.621877  no  0.000000  0.250502  Sometimes  Public_Transportation  \n",
       "3  2.786417  no  0.094851  0.000000  Sometimes  Public_Transportation  \n",
       "4  2.653531  no  0.000000  0.741069  Sometimes  Public_Transportation  "
      ]
     },
     "execution_count": 6,
     "metadata": {},
     "output_type": "execute_result"
    }
   ],
   "source": [
    "df_test.head()"
   ]
  },
  {
   "cell_type": "code",
   "execution_count": 7,
   "id": "268c5b0a",
   "metadata": {
    "execution": {
     "iopub.execute_input": "2024-02-10T16:38:27.272804Z",
     "iopub.status.busy": "2024-02-10T16:38:27.271828Z",
     "iopub.status.idle": "2024-02-10T16:38:27.288123Z",
     "shell.execute_reply": "2024-02-10T16:38:27.287480Z"
    },
    "papermill": {
     "duration": 0.02646,
     "end_time": "2024-02-10T16:38:27.290101",
     "exception": false,
     "start_time": "2024-02-10T16:38:27.263641",
     "status": "completed"
    },
    "tags": []
   },
   "outputs": [
    {
     "name": "stdout",
     "output_type": "stream",
     "text": [
      "<class 'pandas.core.frame.DataFrame'>\n",
      "RangeIndex: 13840 entries, 0 to 13839\n",
      "Data columns (total 16 columns):\n",
      " #   Column                          Non-Null Count  Dtype  \n",
      "---  ------                          --------------  -----  \n",
      " 0   Gender                          13840 non-null  object \n",
      " 1   Age                             13840 non-null  float64\n",
      " 2   Height                          13840 non-null  float64\n",
      " 3   Weight                          13840 non-null  float64\n",
      " 4   family_history_with_overweight  13840 non-null  object \n",
      " 5   FAVC                            13840 non-null  object \n",
      " 6   FCVC                            13840 non-null  float64\n",
      " 7   NCP                             13840 non-null  float64\n",
      " 8   CAEC                            13840 non-null  object \n",
      " 9   SMOKE                           13840 non-null  object \n",
      " 10  CH2O                            13840 non-null  float64\n",
      " 11  SCC                             13840 non-null  object \n",
      " 12  FAF                             13840 non-null  float64\n",
      " 13  TUE                             13840 non-null  float64\n",
      " 14  CALC                            13840 non-null  object \n",
      " 15  MTRANS                          13840 non-null  object \n",
      "dtypes: float64(8), object(8)\n",
      "memory usage: 1.7+ MB\n"
     ]
    }
   ],
   "source": [
    "df_test = df_test.drop('id', axis = 1)\n",
    "df_test.info()"
   ]
  },
  {
   "cell_type": "code",
   "execution_count": 8,
   "id": "22006d71",
   "metadata": {
    "execution": {
     "iopub.execute_input": "2024-02-10T16:38:27.305349Z",
     "iopub.status.busy": "2024-02-10T16:38:27.304738Z",
     "iopub.status.idle": "2024-02-10T16:38:27.323346Z",
     "shell.execute_reply": "2024-02-10T16:38:27.322233Z"
    },
    "papermill": {
     "duration": 0.029115,
     "end_time": "2024-02-10T16:38:27.326072",
     "exception": false,
     "start_time": "2024-02-10T16:38:27.296957",
     "status": "completed"
    },
    "tags": []
   },
   "outputs": [
    {
     "name": "stdout",
     "output_type": "stream",
     "text": [
      "<class 'pandas.core.frame.DataFrame'>\n",
      "RangeIndex: 20758 entries, 0 to 20757\n",
      "Data columns (total 16 columns):\n",
      " #   Column                          Non-Null Count  Dtype  \n",
      "---  ------                          --------------  -----  \n",
      " 0   Gender                          20758 non-null  object \n",
      " 1   Age                             20758 non-null  float64\n",
      " 2   Height                          20758 non-null  float64\n",
      " 3   Weight                          20758 non-null  float64\n",
      " 4   family_history_with_overweight  20758 non-null  object \n",
      " 5   FAVC                            20758 non-null  object \n",
      " 6   FCVC                            20758 non-null  float64\n",
      " 7   NCP                             20758 non-null  float64\n",
      " 8   CAEC                            20758 non-null  object \n",
      " 9   SMOKE                           20758 non-null  object \n",
      " 10  CH2O                            20758 non-null  float64\n",
      " 11  SCC                             20758 non-null  object \n",
      " 12  FAF                             20758 non-null  float64\n",
      " 13  TUE                             20758 non-null  float64\n",
      " 14  CALC                            20758 non-null  object \n",
      " 15  MTRANS                          20758 non-null  object \n",
      "dtypes: float64(8), object(8)\n",
      "memory usage: 2.5+ MB\n"
     ]
    }
   ],
   "source": [
    "df_train_x = df_train.drop('NObeyesdad',axis=1)\n",
    "df_train_y = df_train['NObeyesdad']\n",
    "df_train_x.info()"
   ]
  },
  {
   "cell_type": "code",
   "execution_count": 9,
   "id": "dfc89942",
   "metadata": {
    "execution": {
     "iopub.execute_input": "2024-02-10T16:38:27.341870Z",
     "iopub.status.busy": "2024-02-10T16:38:27.341163Z",
     "iopub.status.idle": "2024-02-10T16:38:27.365910Z",
     "shell.execute_reply": "2024-02-10T16:38:27.364888Z"
    },
    "papermill": {
     "duration": 0.034853,
     "end_time": "2024-02-10T16:38:27.367768",
     "exception": false,
     "start_time": "2024-02-10T16:38:27.332915",
     "status": "completed"
    },
    "tags": []
   },
   "outputs": [
    {
     "name": "stdout",
     "output_type": "stream",
     "text": [
      "<class 'pandas.core.frame.DataFrame'>\n",
      "RangeIndex: 34598 entries, 0 to 34597\n",
      "Data columns (total 16 columns):\n",
      " #   Column                          Non-Null Count  Dtype  \n",
      "---  ------                          --------------  -----  \n",
      " 0   Gender                          34598 non-null  object \n",
      " 1   Age                             34598 non-null  float64\n",
      " 2   Height                          34598 non-null  float64\n",
      " 3   Weight                          34598 non-null  float64\n",
      " 4   family_history_with_overweight  34598 non-null  object \n",
      " 5   FAVC                            34598 non-null  object \n",
      " 6   FCVC                            34598 non-null  float64\n",
      " 7   NCP                             34598 non-null  float64\n",
      " 8   CAEC                            34598 non-null  object \n",
      " 9   SMOKE                           34598 non-null  object \n",
      " 10  CH2O                            34598 non-null  float64\n",
      " 11  SCC                             34598 non-null  object \n",
      " 12  FAF                             34598 non-null  float64\n",
      " 13  TUE                             34598 non-null  float64\n",
      " 14  CALC                            34598 non-null  object \n",
      " 15  MTRANS                          34598 non-null  object \n",
      "dtypes: float64(8), object(8)\n",
      "memory usage: 4.2+ MB\n"
     ]
    }
   ],
   "source": [
    "df_all = pd.concat([df_train_x, df_test], ignore_index=True)\n",
    "df_all.info()"
   ]
  },
  {
   "cell_type": "code",
   "execution_count": 10,
   "id": "52bbeac7",
   "metadata": {
    "execution": {
     "iopub.execute_input": "2024-02-10T16:38:27.383159Z",
     "iopub.status.busy": "2024-02-10T16:38:27.382709Z",
     "iopub.status.idle": "2024-02-10T16:38:27.432305Z",
     "shell.execute_reply": "2024-02-10T16:38:27.431047Z"
    },
    "papermill": {
     "duration": 0.059779,
     "end_time": "2024-02-10T16:38:27.434469",
     "exception": false,
     "start_time": "2024-02-10T16:38:27.374690",
     "status": "completed"
    },
    "tags": []
   },
   "outputs": [
    {
     "name": "stdout",
     "output_type": "stream",
     "text": [
      "<class 'pandas.core.frame.DataFrame'>\n",
      "RangeIndex: 34598 entries, 0 to 34597\n",
      "Data columns (total 31 columns):\n",
      " #   Column                              Non-Null Count  Dtype  \n",
      "---  ------                              --------------  -----  \n",
      " 0   Age                                 34598 non-null  float64\n",
      " 1   Height                              34598 non-null  float64\n",
      " 2   Weight                              34598 non-null  float64\n",
      " 3   FCVC                                34598 non-null  float64\n",
      " 4   NCP                                 34598 non-null  float64\n",
      " 5   CH2O                                34598 non-null  float64\n",
      " 6   FAF                                 34598 non-null  float64\n",
      " 7   TUE                                 34598 non-null  float64\n",
      " 8   Gender_Female                       34598 non-null  bool   \n",
      " 9   Gender_Male                         34598 non-null  bool   \n",
      " 10  family_history_with_overweight_no   34598 non-null  bool   \n",
      " 11  family_history_with_overweight_yes  34598 non-null  bool   \n",
      " 12  FAVC_no                             34598 non-null  bool   \n",
      " 13  FAVC_yes                            34598 non-null  bool   \n",
      " 14  CAEC_Always                         34598 non-null  bool   \n",
      " 15  CAEC_Frequently                     34598 non-null  bool   \n",
      " 16  CAEC_Sometimes                      34598 non-null  bool   \n",
      " 17  CAEC_no                             34598 non-null  bool   \n",
      " 18  SMOKE_no                            34598 non-null  bool   \n",
      " 19  SMOKE_yes                           34598 non-null  bool   \n",
      " 20  SCC_no                              34598 non-null  bool   \n",
      " 21  SCC_yes                             34598 non-null  bool   \n",
      " 22  CALC_Always                         34598 non-null  bool   \n",
      " 23  CALC_Frequently                     34598 non-null  bool   \n",
      " 24  CALC_Sometimes                      34598 non-null  bool   \n",
      " 25  CALC_no                             34598 non-null  bool   \n",
      " 26  MTRANS_Automobile                   34598 non-null  bool   \n",
      " 27  MTRANS_Bike                         34598 non-null  bool   \n",
      " 28  MTRANS_Motorbike                    34598 non-null  bool   \n",
      " 29  MTRANS_Public_Transportation        34598 non-null  bool   \n",
      " 30  MTRANS_Walking                      34598 non-null  bool   \n",
      "dtypes: bool(23), float64(8)\n",
      "memory usage: 2.9 MB\n"
     ]
    }
   ],
   "source": [
    "df_all_transform = pd.get_dummies(df_all,columns = ['Gender','family_history_with_overweight','FAVC','CAEC','SMOKE','SCC','CALC','MTRANS'])\n",
    "df_all_transform.info()"
   ]
  },
  {
   "cell_type": "code",
   "execution_count": 11,
   "id": "503c505b",
   "metadata": {
    "execution": {
     "iopub.execute_input": "2024-02-10T16:38:27.451644Z",
     "iopub.status.busy": "2024-02-10T16:38:27.451274Z",
     "iopub.status.idle": "2024-02-10T16:38:27.464073Z",
     "shell.execute_reply": "2024-02-10T16:38:27.462834Z"
    },
    "papermill": {
     "duration": 0.024013,
     "end_time": "2024-02-10T16:38:27.466560",
     "exception": false,
     "start_time": "2024-02-10T16:38:27.442547",
     "status": "completed"
    },
    "tags": []
   },
   "outputs": [
    {
     "name": "stdout",
     "output_type": "stream",
     "text": [
      "<class 'pandas.core.frame.DataFrame'>\n",
      "RangeIndex: 20758 entries, 0 to 20757\n",
      "Data columns (total 31 columns):\n",
      " #   Column                              Non-Null Count  Dtype  \n",
      "---  ------                              --------------  -----  \n",
      " 0   Age                                 20758 non-null  float64\n",
      " 1   Height                              20758 non-null  float64\n",
      " 2   Weight                              20758 non-null  float64\n",
      " 3   FCVC                                20758 non-null  float64\n",
      " 4   NCP                                 20758 non-null  float64\n",
      " 5   CH2O                                20758 non-null  float64\n",
      " 6   FAF                                 20758 non-null  float64\n",
      " 7   TUE                                 20758 non-null  float64\n",
      " 8   Gender_Female                       20758 non-null  bool   \n",
      " 9   Gender_Male                         20758 non-null  bool   \n",
      " 10  family_history_with_overweight_no   20758 non-null  bool   \n",
      " 11  family_history_with_overweight_yes  20758 non-null  bool   \n",
      " 12  FAVC_no                             20758 non-null  bool   \n",
      " 13  FAVC_yes                            20758 non-null  bool   \n",
      " 14  CAEC_Always                         20758 non-null  bool   \n",
      " 15  CAEC_Frequently                     20758 non-null  bool   \n",
      " 16  CAEC_Sometimes                      20758 non-null  bool   \n",
      " 17  CAEC_no                             20758 non-null  bool   \n",
      " 18  SMOKE_no                            20758 non-null  bool   \n",
      " 19  SMOKE_yes                           20758 non-null  bool   \n",
      " 20  SCC_no                              20758 non-null  bool   \n",
      " 21  SCC_yes                             20758 non-null  bool   \n",
      " 22  CALC_Always                         20758 non-null  bool   \n",
      " 23  CALC_Frequently                     20758 non-null  bool   \n",
      " 24  CALC_Sometimes                      20758 non-null  bool   \n",
      " 25  CALC_no                             20758 non-null  bool   \n",
      " 26  MTRANS_Automobile                   20758 non-null  bool   \n",
      " 27  MTRANS_Bike                         20758 non-null  bool   \n",
      " 28  MTRANS_Motorbike                    20758 non-null  bool   \n",
      " 29  MTRANS_Public_Transportation        20758 non-null  bool   \n",
      " 30  MTRANS_Walking                      20758 non-null  bool   \n",
      "dtypes: bool(23), float64(8)\n",
      "memory usage: 1.7 MB\n"
     ]
    }
   ],
   "source": [
    "df_train_x = df_all_transform.head(20758)\n",
    "df_train_x.info()"
   ]
  },
  {
   "cell_type": "code",
   "execution_count": 12,
   "id": "5882af10",
   "metadata": {
    "execution": {
     "iopub.execute_input": "2024-02-10T16:38:27.483784Z",
     "iopub.status.busy": "2024-02-10T16:38:27.483244Z",
     "iopub.status.idle": "2024-02-10T16:38:27.496130Z",
     "shell.execute_reply": "2024-02-10T16:38:27.494182Z"
    },
    "papermill": {
     "duration": 0.024366,
     "end_time": "2024-02-10T16:38:27.498081",
     "exception": false,
     "start_time": "2024-02-10T16:38:27.473715",
     "status": "completed"
    },
    "tags": []
   },
   "outputs": [
    {
     "name": "stdout",
     "output_type": "stream",
     "text": [
      "<class 'pandas.core.frame.DataFrame'>\n",
      "RangeIndex: 13840 entries, 20758 to 34597\n",
      "Data columns (total 31 columns):\n",
      " #   Column                              Non-Null Count  Dtype  \n",
      "---  ------                              --------------  -----  \n",
      " 0   Age                                 13840 non-null  float64\n",
      " 1   Height                              13840 non-null  float64\n",
      " 2   Weight                              13840 non-null  float64\n",
      " 3   FCVC                                13840 non-null  float64\n",
      " 4   NCP                                 13840 non-null  float64\n",
      " 5   CH2O                                13840 non-null  float64\n",
      " 6   FAF                                 13840 non-null  float64\n",
      " 7   TUE                                 13840 non-null  float64\n",
      " 8   Gender_Female                       13840 non-null  bool   \n",
      " 9   Gender_Male                         13840 non-null  bool   \n",
      " 10  family_history_with_overweight_no   13840 non-null  bool   \n",
      " 11  family_history_with_overweight_yes  13840 non-null  bool   \n",
      " 12  FAVC_no                             13840 non-null  bool   \n",
      " 13  FAVC_yes                            13840 non-null  bool   \n",
      " 14  CAEC_Always                         13840 non-null  bool   \n",
      " 15  CAEC_Frequently                     13840 non-null  bool   \n",
      " 16  CAEC_Sometimes                      13840 non-null  bool   \n",
      " 17  CAEC_no                             13840 non-null  bool   \n",
      " 18  SMOKE_no                            13840 non-null  bool   \n",
      " 19  SMOKE_yes                           13840 non-null  bool   \n",
      " 20  SCC_no                              13840 non-null  bool   \n",
      " 21  SCC_yes                             13840 non-null  bool   \n",
      " 22  CALC_Always                         13840 non-null  bool   \n",
      " 23  CALC_Frequently                     13840 non-null  bool   \n",
      " 24  CALC_Sometimes                      13840 non-null  bool   \n",
      " 25  CALC_no                             13840 non-null  bool   \n",
      " 26  MTRANS_Automobile                   13840 non-null  bool   \n",
      " 27  MTRANS_Bike                         13840 non-null  bool   \n",
      " 28  MTRANS_Motorbike                    13840 non-null  bool   \n",
      " 29  MTRANS_Public_Transportation        13840 non-null  bool   \n",
      " 30  MTRANS_Walking                      13840 non-null  bool   \n",
      "dtypes: bool(23), float64(8)\n",
      "memory usage: 1.1 MB\n"
     ]
    }
   ],
   "source": [
    "df_test_x = df_all_transform.tail(13840)\n",
    "df_test_x.info()"
   ]
  },
  {
   "cell_type": "markdown",
   "id": "d4c35cfc",
   "metadata": {
    "papermill": {
     "duration": 0.006674,
     "end_time": "2024-02-10T16:38:27.511905",
     "exception": false,
     "start_time": "2024-02-10T16:38:27.505231",
     "status": "completed"
    },
    "tags": []
   },
   "source": [
    "## UTILIZAMOS UM MODELO DE CLASIFICAÇÃO"
   ]
  },
  {
   "cell_type": "code",
   "execution_count": 13,
   "id": "7de5d778",
   "metadata": {
    "execution": {
     "iopub.execute_input": "2024-02-10T16:38:27.527707Z",
     "iopub.status.busy": "2024-02-10T16:38:27.527208Z",
     "iopub.status.idle": "2024-02-10T16:38:27.534847Z",
     "shell.execute_reply": "2024-02-10T16:38:27.533891Z"
    },
    "papermill": {
     "duration": 0.018376,
     "end_time": "2024-02-10T16:38:27.537288",
     "exception": false,
     "start_time": "2024-02-10T16:38:27.518912",
     "status": "completed"
    },
    "tags": []
   },
   "outputs": [
    {
     "data": {
      "text/plain": [
       "array(['Overweight_Level_II', 'Normal_Weight', 'Insufficient_Weight',\n",
       "       'Obesity_Type_III', 'Obesity_Type_II', 'Overweight_Level_I',\n",
       "       'Obesity_Type_I'], dtype=object)"
      ]
     },
     "execution_count": 13,
     "metadata": {},
     "output_type": "execute_result"
    }
   ],
   "source": [
    "df_train_y.unique()"
   ]
  },
  {
   "cell_type": "code",
   "execution_count": 14,
   "id": "5af6d43c",
   "metadata": {
    "execution": {
     "iopub.execute_input": "2024-02-10T16:38:27.553806Z",
     "iopub.status.busy": "2024-02-10T16:38:27.553479Z",
     "iopub.status.idle": "2024-02-10T16:38:28.707619Z",
     "shell.execute_reply": "2024-02-10T16:38:28.706713Z"
    },
    "papermill": {
     "duration": 1.164542,
     "end_time": "2024-02-10T16:38:28.709654",
     "exception": false,
     "start_time": "2024-02-10T16:38:27.545112",
     "status": "completed"
    },
    "tags": []
   },
   "outputs": [
    {
     "data": {
      "text/plain": [
       "array([6, 1, 0, ..., 3, 6, 3])"
      ]
     },
     "execution_count": 14,
     "metadata": {},
     "output_type": "execute_result"
    }
   ],
   "source": [
    "from sklearn.preprocessing import LabelEncoder\n",
    "\n",
    "label_encoder = LabelEncoder()\n",
    "y_numeric = label_encoder.fit_transform(df_train_y)\n",
    "y_numeric"
   ]
  },
  {
   "cell_type": "code",
   "execution_count": 15,
   "id": "a9d435c6",
   "metadata": {
    "execution": {
     "iopub.execute_input": "2024-02-10T16:38:28.727104Z",
     "iopub.status.busy": "2024-02-10T16:38:28.725855Z",
     "iopub.status.idle": "2024-02-10T16:38:28.733328Z",
     "shell.execute_reply": "2024-02-10T16:38:28.732329Z"
    },
    "papermill": {
     "duration": 0.018464,
     "end_time": "2024-02-10T16:38:28.735561",
     "exception": false,
     "start_time": "2024-02-10T16:38:28.717097",
     "status": "completed"
    },
    "tags": []
   },
   "outputs": [
    {
     "data": {
      "text/plain": [
       "0    Overweight_Level_II\n",
       "1          Normal_Weight\n",
       "2    Insufficient_Weight\n",
       "3       Obesity_Type_III\n",
       "4    Overweight_Level_II\n",
       "Name: NObeyesdad, dtype: object"
      ]
     },
     "execution_count": 15,
     "metadata": {},
     "output_type": "execute_result"
    }
   ],
   "source": [
    "df_train_y.head()"
   ]
  },
  {
   "cell_type": "code",
   "execution_count": 16,
   "id": "f8cfe47d",
   "metadata": {
    "execution": {
     "iopub.execute_input": "2024-02-10T16:38:28.752120Z",
     "iopub.status.busy": "2024-02-10T16:38:28.751711Z",
     "iopub.status.idle": "2024-02-10T16:38:28.759846Z",
     "shell.execute_reply": "2024-02-10T16:38:28.758802Z"
    },
    "papermill": {
     "duration": 0.018625,
     "end_time": "2024-02-10T16:38:28.761789",
     "exception": false,
     "start_time": "2024-02-10T16:38:28.743164",
     "status": "completed"
    },
    "tags": []
   },
   "outputs": [
    {
     "data": {
      "text/plain": [
       "20753        Obesity_Type_II\n",
       "20754    Insufficient_Weight\n",
       "20755        Obesity_Type_II\n",
       "20756    Overweight_Level_II\n",
       "20757        Obesity_Type_II\n",
       "Name: NObeyesdad, dtype: object"
      ]
     },
     "execution_count": 16,
     "metadata": {},
     "output_type": "execute_result"
    }
   ],
   "source": [
    "df_train_y.tail()"
   ]
  },
  {
   "cell_type": "code",
   "execution_count": 17,
   "id": "dc01757c",
   "metadata": {
    "execution": {
     "iopub.execute_input": "2024-02-10T16:38:28.778797Z",
     "iopub.status.busy": "2024-02-10T16:38:28.778466Z",
     "iopub.status.idle": "2024-02-10T16:38:29.137019Z",
     "shell.execute_reply": "2024-02-10T16:38:29.135502Z"
    },
    "papermill": {
     "duration": 0.369522,
     "end_time": "2024-02-10T16:38:29.139074",
     "exception": false,
     "start_time": "2024-02-10T16:38:28.769552",
     "status": "completed"
    },
    "tags": []
   },
   "outputs": [
    {
     "data": {
      "text/html": [
       "<style>#sk-container-id-1 {color: black;background-color: white;}#sk-container-id-1 pre{padding: 0;}#sk-container-id-1 div.sk-toggleable {background-color: white;}#sk-container-id-1 label.sk-toggleable__label {cursor: pointer;display: block;width: 100%;margin-bottom: 0;padding: 0.3em;box-sizing: border-box;text-align: center;}#sk-container-id-1 label.sk-toggleable__label-arrow:before {content: \"▸\";float: left;margin-right: 0.25em;color: #696969;}#sk-container-id-1 label.sk-toggleable__label-arrow:hover:before {color: black;}#sk-container-id-1 div.sk-estimator:hover label.sk-toggleable__label-arrow:before {color: black;}#sk-container-id-1 div.sk-toggleable__content {max-height: 0;max-width: 0;overflow: hidden;text-align: left;background-color: #f0f8ff;}#sk-container-id-1 div.sk-toggleable__content pre {margin: 0.2em;color: black;border-radius: 0.25em;background-color: #f0f8ff;}#sk-container-id-1 input.sk-toggleable__control:checked~div.sk-toggleable__content {max-height: 200px;max-width: 100%;overflow: auto;}#sk-container-id-1 input.sk-toggleable__control:checked~label.sk-toggleable__label-arrow:before {content: \"▾\";}#sk-container-id-1 div.sk-estimator input.sk-toggleable__control:checked~label.sk-toggleable__label {background-color: #d4ebff;}#sk-container-id-1 div.sk-label input.sk-toggleable__control:checked~label.sk-toggleable__label {background-color: #d4ebff;}#sk-container-id-1 input.sk-hidden--visually {border: 0;clip: rect(1px 1px 1px 1px);clip: rect(1px, 1px, 1px, 1px);height: 1px;margin: -1px;overflow: hidden;padding: 0;position: absolute;width: 1px;}#sk-container-id-1 div.sk-estimator {font-family: monospace;background-color: #f0f8ff;border: 1px dotted black;border-radius: 0.25em;box-sizing: border-box;margin-bottom: 0.5em;}#sk-container-id-1 div.sk-estimator:hover {background-color: #d4ebff;}#sk-container-id-1 div.sk-parallel-item::after {content: \"\";width: 100%;border-bottom: 1px solid gray;flex-grow: 1;}#sk-container-id-1 div.sk-label:hover label.sk-toggleable__label {background-color: #d4ebff;}#sk-container-id-1 div.sk-serial::before {content: \"\";position: absolute;border-left: 1px solid gray;box-sizing: border-box;top: 0;bottom: 0;left: 50%;z-index: 0;}#sk-container-id-1 div.sk-serial {display: flex;flex-direction: column;align-items: center;background-color: white;padding-right: 0.2em;padding-left: 0.2em;position: relative;}#sk-container-id-1 div.sk-item {position: relative;z-index: 1;}#sk-container-id-1 div.sk-parallel {display: flex;align-items: stretch;justify-content: center;background-color: white;position: relative;}#sk-container-id-1 div.sk-item::before, #sk-container-id-1 div.sk-parallel-item::before {content: \"\";position: absolute;border-left: 1px solid gray;box-sizing: border-box;top: 0;bottom: 0;left: 50%;z-index: -1;}#sk-container-id-1 div.sk-parallel-item {display: flex;flex-direction: column;z-index: 1;position: relative;background-color: white;}#sk-container-id-1 div.sk-parallel-item:first-child::after {align-self: flex-end;width: 50%;}#sk-container-id-1 div.sk-parallel-item:last-child::after {align-self: flex-start;width: 50%;}#sk-container-id-1 div.sk-parallel-item:only-child::after {width: 0;}#sk-container-id-1 div.sk-dashed-wrapped {border: 1px dashed gray;margin: 0 0.4em 0.5em 0.4em;box-sizing: border-box;padding-bottom: 0.4em;background-color: white;}#sk-container-id-1 div.sk-label label {font-family: monospace;font-weight: bold;display: inline-block;line-height: 1.2em;}#sk-container-id-1 div.sk-label-container {text-align: center;}#sk-container-id-1 div.sk-container {/* jupyter's `normalize.less` sets `[hidden] { display: none; }` but bootstrap.min.css set `[hidden] { display: none !important; }` so we also need the `!important` here to be able to override the default hidden behavior on the sphinx rendered scikit-learn.org. See: https://github.com/scikit-learn/scikit-learn/issues/21755 */display: inline-block !important;position: relative;}#sk-container-id-1 div.sk-text-repr-fallback {display: none;}</style><div id=\"sk-container-id-1\" class=\"sk-top-container\"><div class=\"sk-text-repr-fallback\"><pre>KNeighborsClassifier(n_neighbors=3)</pre><b>In a Jupyter environment, please rerun this cell to show the HTML representation or trust the notebook. <br />On GitHub, the HTML representation is unable to render, please try loading this page with nbviewer.org.</b></div><div class=\"sk-container\" hidden><div class=\"sk-item\"><div class=\"sk-estimator sk-toggleable\"><input class=\"sk-toggleable__control sk-hidden--visually\" id=\"sk-estimator-id-1\" type=\"checkbox\" checked><label for=\"sk-estimator-id-1\" class=\"sk-toggleable__label sk-toggleable__label-arrow\">KNeighborsClassifier</label><div class=\"sk-toggleable__content\"><pre>KNeighborsClassifier(n_neighbors=3)</pre></div></div></div></div></div>"
      ],
      "text/plain": [
       "KNeighborsClassifier(n_neighbors=3)"
      ]
     },
     "execution_count": 17,
     "metadata": {},
     "output_type": "execute_result"
    }
   ],
   "source": [
    "from sklearn.neighbors import KNeighborsClassifier\n",
    "knn_model = KNeighborsClassifier(n_neighbors=3)\n",
    "knn_model.fit(df_train_x, y_numeric)"
   ]
  },
  {
   "cell_type": "code",
   "execution_count": 18,
   "id": "e6445e51",
   "metadata": {
    "execution": {
     "iopub.execute_input": "2024-02-10T16:38:29.155969Z",
     "iopub.status.busy": "2024-02-10T16:38:29.155640Z",
     "iopub.status.idle": "2024-02-10T16:38:30.169620Z",
     "shell.execute_reply": "2024-02-10T16:38:30.168483Z"
    },
    "papermill": {
     "duration": 1.024776,
     "end_time": "2024-02-10T16:38:30.171446",
     "exception": false,
     "start_time": "2024-02-10T16:38:29.146670",
     "status": "completed"
    },
    "tags": []
   },
   "outputs": [
    {
     "data": {
      "text/plain": [
       "array([3, 5, 4, ..., 0, 0, 3])"
      ]
     },
     "execution_count": 18,
     "metadata": {},
     "output_type": "execute_result"
    }
   ],
   "source": [
    "df_test_y = knn_model.predict(df_test_x)\n",
    "df_test_y"
   ]
  },
  {
   "cell_type": "code",
   "execution_count": 19,
   "id": "d0084275",
   "metadata": {
    "execution": {
     "iopub.execute_input": "2024-02-10T16:38:30.188151Z",
     "iopub.status.busy": "2024-02-10T16:38:30.187822Z",
     "iopub.status.idle": "2024-02-10T16:38:30.206002Z",
     "shell.execute_reply": "2024-02-10T16:38:30.204933Z"
    },
    "papermill": {
     "duration": 0.029346,
     "end_time": "2024-02-10T16:38:30.208566",
     "exception": false,
     "start_time": "2024-02-10T16:38:30.179220",
     "status": "completed"
    },
    "tags": []
   },
   "outputs": [
    {
     "data": {
      "text/html": [
       "<div>\n",
       "<style scoped>\n",
       "    .dataframe tbody tr th:only-of-type {\n",
       "        vertical-align: middle;\n",
       "    }\n",
       "\n",
       "    .dataframe tbody tr th {\n",
       "        vertical-align: top;\n",
       "    }\n",
       "\n",
       "    .dataframe thead th {\n",
       "        text-align: right;\n",
       "    }\n",
       "</style>\n",
       "<table border=\"1\" class=\"dataframe\">\n",
       "  <thead>\n",
       "    <tr style=\"text-align: right;\">\n",
       "      <th></th>\n",
       "      <th>id</th>\n",
       "      <th>NObeyesdad</th>\n",
       "    </tr>\n",
       "  </thead>\n",
       "  <tbody>\n",
       "    <tr>\n",
       "      <th>0</th>\n",
       "      <td>20758</td>\n",
       "      <td>Normal_Weight</td>\n",
       "    </tr>\n",
       "    <tr>\n",
       "      <th>1</th>\n",
       "      <td>20759</td>\n",
       "      <td>Normal_Weight</td>\n",
       "    </tr>\n",
       "    <tr>\n",
       "      <th>2</th>\n",
       "      <td>20760</td>\n",
       "      <td>Normal_Weight</td>\n",
       "    </tr>\n",
       "    <tr>\n",
       "      <th>3</th>\n",
       "      <td>20761</td>\n",
       "      <td>Normal_Weight</td>\n",
       "    </tr>\n",
       "    <tr>\n",
       "      <th>4</th>\n",
       "      <td>20762</td>\n",
       "      <td>Normal_Weight</td>\n",
       "    </tr>\n",
       "  </tbody>\n",
       "</table>\n",
       "</div>"
      ],
      "text/plain": [
       "      id     NObeyesdad\n",
       "0  20758  Normal_Weight\n",
       "1  20759  Normal_Weight\n",
       "2  20760  Normal_Weight\n",
       "3  20761  Normal_Weight\n",
       "4  20762  Normal_Weight"
      ]
     },
     "execution_count": 19,
     "metadata": {},
     "output_type": "execute_result"
    }
   ],
   "source": [
    "submission = pd.read_csv('/kaggle/input/playground-series-s4e2/sample_submission.csv')\n",
    "submission.head()"
   ]
  },
  {
   "cell_type": "code",
   "execution_count": 20,
   "id": "aeffb5a7",
   "metadata": {
    "execution": {
     "iopub.execute_input": "2024-02-10T16:38:30.227098Z",
     "iopub.status.busy": "2024-02-10T16:38:30.226772Z",
     "iopub.status.idle": "2024-02-10T16:38:30.234462Z",
     "shell.execute_reply": "2024-02-10T16:38:30.233176Z"
    },
    "papermill": {
     "duration": 0.019071,
     "end_time": "2024-02-10T16:38:30.236480",
     "exception": false,
     "start_time": "2024-02-10T16:38:30.217409",
     "status": "completed"
    },
    "tags": []
   },
   "outputs": [
    {
     "data": {
      "text/plain": [
       "13840"
      ]
     },
     "execution_count": 20,
     "metadata": {},
     "output_type": "execute_result"
    }
   ],
   "source": [
    "submission_y = label_encoder.inverse_transform(df_test_y)\n",
    "len(submission_y)"
   ]
  },
  {
   "cell_type": "code",
   "execution_count": 21,
   "id": "ddadfe1b",
   "metadata": {
    "execution": {
     "iopub.execute_input": "2024-02-10T16:38:30.254390Z",
     "iopub.status.busy": "2024-02-10T16:38:30.254010Z",
     "iopub.status.idle": "2024-02-10T16:38:30.290420Z",
     "shell.execute_reply": "2024-02-10T16:38:30.289335Z"
    },
    "papermill": {
     "duration": 0.048274,
     "end_time": "2024-02-10T16:38:30.292993",
     "exception": false,
     "start_time": "2024-02-10T16:38:30.244719",
     "status": "completed"
    },
    "tags": []
   },
   "outputs": [
    {
     "data": {
      "text/plain": [
       "0        20758\n",
       "1        20759\n",
       "2        20760\n",
       "3        20761\n",
       "4        20762\n",
       "         ...  \n",
       "13835    34593\n",
       "13836    34594\n",
       "13837    34595\n",
       "13838    34596\n",
       "13839    34597\n",
       "Name: id, Length: 13840, dtype: int64"
      ]
     },
     "execution_count": 21,
     "metadata": {},
     "output_type": "execute_result"
    }
   ],
   "source": [
    "df_test = pd.read_csv('/kaggle/input/playground-series-s4e2/test.csv')\n",
    "df_test['id']"
   ]
  },
  {
   "cell_type": "code",
   "execution_count": 22,
   "id": "048a4abe",
   "metadata": {
    "execution": {
     "iopub.execute_input": "2024-02-10T16:38:30.311381Z",
     "iopub.status.busy": "2024-02-10T16:38:30.310999Z",
     "iopub.status.idle": "2024-02-10T16:38:30.321889Z",
     "shell.execute_reply": "2024-02-10T16:38:30.320560Z"
    },
    "papermill": {
     "duration": 0.022336,
     "end_time": "2024-02-10T16:38:30.323794",
     "exception": false,
     "start_time": "2024-02-10T16:38:30.301458",
     "status": "completed"
    },
    "tags": []
   },
   "outputs": [
    {
     "data": {
      "text/html": [
       "<div>\n",
       "<style scoped>\n",
       "    .dataframe tbody tr th:only-of-type {\n",
       "        vertical-align: middle;\n",
       "    }\n",
       "\n",
       "    .dataframe tbody tr th {\n",
       "        vertical-align: top;\n",
       "    }\n",
       "\n",
       "    .dataframe thead th {\n",
       "        text-align: right;\n",
       "    }\n",
       "</style>\n",
       "<table border=\"1\" class=\"dataframe\">\n",
       "  <thead>\n",
       "    <tr style=\"text-align: right;\">\n",
       "      <th></th>\n",
       "      <th>id</th>\n",
       "      <th>NObeyesdad</th>\n",
       "    </tr>\n",
       "  </thead>\n",
       "  <tbody>\n",
       "    <tr>\n",
       "      <th>0</th>\n",
       "      <td>20758</td>\n",
       "      <td>Obesity_Type_II</td>\n",
       "    </tr>\n",
       "    <tr>\n",
       "      <th>1</th>\n",
       "      <td>20759</td>\n",
       "      <td>Overweight_Level_I</td>\n",
       "    </tr>\n",
       "    <tr>\n",
       "      <th>2</th>\n",
       "      <td>20760</td>\n",
       "      <td>Obesity_Type_III</td>\n",
       "    </tr>\n",
       "    <tr>\n",
       "      <th>3</th>\n",
       "      <td>20761</td>\n",
       "      <td>Obesity_Type_I</td>\n",
       "    </tr>\n",
       "    <tr>\n",
       "      <th>4</th>\n",
       "      <td>20762</td>\n",
       "      <td>Obesity_Type_III</td>\n",
       "    </tr>\n",
       "  </tbody>\n",
       "</table>\n",
       "</div>"
      ],
      "text/plain": [
       "      id          NObeyesdad\n",
       "0  20758     Obesity_Type_II\n",
       "1  20759  Overweight_Level_I\n",
       "2  20760    Obesity_Type_III\n",
       "3  20761      Obesity_Type_I\n",
       "4  20762    Obesity_Type_III"
      ]
     },
     "execution_count": 22,
     "metadata": {},
     "output_type": "execute_result"
    }
   ],
   "source": [
    "submission = pd.DataFrame({'id':df_test['id'] ,'NObeyesdad':submission_y})\n",
    "submission.head()"
   ]
  },
  {
   "cell_type": "code",
   "execution_count": 23,
   "id": "237d4640",
   "metadata": {
    "execution": {
     "iopub.execute_input": "2024-02-10T16:38:30.342467Z",
     "iopub.status.busy": "2024-02-10T16:38:30.341745Z",
     "iopub.status.idle": "2024-02-10T16:38:30.361889Z",
     "shell.execute_reply": "2024-02-10T16:38:30.360954Z"
    },
    "papermill": {
     "duration": 0.031632,
     "end_time": "2024-02-10T16:38:30.363989",
     "exception": false,
     "start_time": "2024-02-10T16:38:30.332357",
     "status": "completed"
    },
    "tags": []
   },
   "outputs": [
    {
     "name": "stdout",
     "output_type": "stream",
     "text": [
      "Your submission was successfully saved!\n"
     ]
    }
   ],
   "source": [
    "submission.to_csv('submission.csv', index=False)\n",
    "print(\"Your submission was successfully saved!\")"
   ]
  }
 ],
 "metadata": {
  "kaggle": {
   "accelerator": "none",
   "dataSources": [
    {
     "databundleVersionId": 7609535,
     "sourceId": 68479,
     "sourceType": "competition"
    }
   ],
   "dockerImageVersionId": 30646,
   "isGpuEnabled": false,
   "isInternetEnabled": false,
   "language": "python",
   "sourceType": "notebook"
  },
  "kernelspec": {
   "display_name": "Python 3",
   "language": "python",
   "name": "python3"
  },
  "language_info": {
   "codemirror_mode": {
    "name": "ipython",
    "version": 3
   },
   "file_extension": ".py",
   "mimetype": "text/x-python",
   "name": "python",
   "nbconvert_exporter": "python",
   "pygments_lexer": "ipython3",
   "version": "3.10.13"
  },
  "papermill": {
   "default_parameters": {},
   "duration": 7.471765,
   "end_time": "2024-02-10T16:38:30.893851",
   "environment_variables": {},
   "exception": null,
   "input_path": "__notebook__.ipynb",
   "output_path": "__notebook__.ipynb",
   "parameters": {},
   "start_time": "2024-02-10T16:38:23.422086",
   "version": "2.5.0"
  }
 },
 "nbformat": 4,
 "nbformat_minor": 5
}
